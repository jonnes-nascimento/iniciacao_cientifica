{
  "nbformat": 4,
  "nbformat_minor": 0,
  "metadata": {
    "colab": {
      "name": "IC_USJT_2020_COVID_19_Dados_Gerais",
      "provenance": [],
      "authorship_tag": "ABX9TyPJbJWOU6Z8uVpdG10PKa8z",
      "include_colab_link": true
    },
    "kernelspec": {
      "name": "python3",
      "display_name": "Python 3"
    }
  },
  "cells": [
    {
      "cell_type": "markdown",
      "metadata": {
        "id": "view-in-github",
        "colab_type": "text"
      },
      "source": [
        "<a href=\"https://colab.research.google.com/github/jonnes-nascimento/iniciacao_cientifica/blob/master/IC_USJT_2020_COVID_19_Dados_Gerais.ipynb\" target=\"_parent\"><img src=\"https://colab.research.google.com/assets/colab-badge.svg\" alt=\"Open In Colab\"/></a>"
      ]
    },
    {
      "cell_type": "markdown",
      "metadata": {
        "id": "4fOoQ8TgjRN1",
        "colab_type": "text"
      },
      "source": [
        "#Importando os dados e fazendo o tratamento básico"
      ]
    },
    {
      "cell_type": "code",
      "metadata": {
        "id": "MhkZ4hb1h-XQ",
        "colab_type": "code",
        "colab": {
          "base_uri": "https://localhost:8080/",
          "height": 258
        },
        "outputId": "8daebc37-eb6f-48ef-f9ca-791d8b3b251d"
      },
      "source": [
        "import numpy as np\n",
        "import pandas as pd\n",
        "import matplotlib.pyplot as plt\n",
        "import seaborn as sns\n",
        "\n",
        "uri = \"https://gist.githubusercontent.com/jonnes-nascimento/2c1cf5448199656ba0918e28167aad9c/raw/200927a50d9e8150488c51574b4cc5907fd02848/brazil_covid19_macro.csv\"\n",
        "\n",
        "# lê os dados do dataset no Gist\n",
        "dados = pd.read_csv(uri)\n",
        "\n",
        "# apaga a coluna country pois os dados já trazem somente informações do Brasil\n",
        "dados = dados.drop(columns = ['country'], axis=1)\n",
        "\n",
        "# definição dos novos nomes das colunas\n",
        "a_renomear = {\n",
        "    \"date\" : \"Data\",\n",
        "    \"week\" : \"Semana\",\n",
        "    \"cases\" : \"Casos\",\n",
        "    \"deaths\" : \"Mortes\",\n",
        "    \"recovered\" : \"Recuperados\",\n",
        "    \"monitoring\" : \"Monitorados\"\n",
        "}\n",
        "\n",
        "# renomeia as colunas\n",
        "dados = dados.rename(columns = a_renomear)\n",
        "\n",
        "# converte a coluna de data\n",
        "dados['Data'] = pd.to_datetime(dados['Data'], format='%Y-%m-%d')\n",
        "\n",
        "# extrai o mes e ano da data em novas colunas\n",
        "dados['Mes'] = pd.DatetimeIndex(dados['Data']).month\n",
        "\n",
        "a_substituir = {\n",
        "    1 : 'Janeiro',\n",
        "    2 : 'Fevereiro',\n",
        "    3 : 'Março',\n",
        "    4 : 'Abril',\n",
        "    5 : 'Maio',\n",
        "    6 : 'Junho',\n",
        "    7 : 'Julho',\n",
        "    8 : 'Agosto',\n",
        "    9 : 'Setembro',\n",
        "    10 : 'Outubro',\n",
        "    11 : 'Novembro',\n",
        "    12 : 'Dezembro'\n",
        "}\n",
        "\n",
        "dados['Mes_Desc'] = dados['Mes'].map(a_substituir)\n",
        "\n",
        "# gera um dataframe com os dados e preenche os espaços em branco, nas colunas de valores, com zero\n",
        "df = pd.DataFrame(dados).fillna(0)\n",
        "\n",
        "# exibe os últimos 5 registros do dataset\n",
        "df.tail()"
      ],
      "execution_count": 1,
      "outputs": [
        {
          "output_type": "stream",
          "text": [
            "/usr/local/lib/python3.6/dist-packages/statsmodels/tools/_testing.py:19: FutureWarning: pandas.util.testing is deprecated. Use the functions in the public API at pandas.testing instead.\n",
            "  import pandas.util.testing as tm\n"
          ],
          "name": "stderr"
        },
        {
          "output_type": "execute_result",
          "data": {
            "text/html": [
              "<div>\n",
              "<style scoped>\n",
              "    .dataframe tbody tr th:only-of-type {\n",
              "        vertical-align: middle;\n",
              "    }\n",
              "\n",
              "    .dataframe tbody tr th {\n",
              "        vertical-align: top;\n",
              "    }\n",
              "\n",
              "    .dataframe thead th {\n",
              "        text-align: right;\n",
              "    }\n",
              "</style>\n",
              "<table border=\"1\" class=\"dataframe\">\n",
              "  <thead>\n",
              "    <tr style=\"text-align: right;\">\n",
              "      <th></th>\n",
              "      <th>Data</th>\n",
              "      <th>Semana</th>\n",
              "      <th>Casos</th>\n",
              "      <th>Mortes</th>\n",
              "      <th>Recuperados</th>\n",
              "      <th>Monitorados</th>\n",
              "      <th>Mes</th>\n",
              "      <th>Mes_Desc</th>\n",
              "    </tr>\n",
              "  </thead>\n",
              "  <tbody>\n",
              "    <tr>\n",
              "      <th>126</th>\n",
              "      <td>2020-06-30</td>\n",
              "      <td>27</td>\n",
              "      <td>1402041</td>\n",
              "      <td>59594</td>\n",
              "      <td>790040.0</td>\n",
              "      <td>552407.0</td>\n",
              "      <td>6</td>\n",
              "      <td>Junho</td>\n",
              "    </tr>\n",
              "    <tr>\n",
              "      <th>127</th>\n",
              "      <td>2020-07-01</td>\n",
              "      <td>27</td>\n",
              "      <td>1448753</td>\n",
              "      <td>60632</td>\n",
              "      <td>826866.0</td>\n",
              "      <td>561255.0</td>\n",
              "      <td>7</td>\n",
              "      <td>Julho</td>\n",
              "    </tr>\n",
              "    <tr>\n",
              "      <th>128</th>\n",
              "      <td>2020-07-02</td>\n",
              "      <td>27</td>\n",
              "      <td>1496858</td>\n",
              "      <td>61884</td>\n",
              "      <td>852816.0</td>\n",
              "      <td>582158.0</td>\n",
              "      <td>7</td>\n",
              "      <td>Julho</td>\n",
              "    </tr>\n",
              "    <tr>\n",
              "      <th>129</th>\n",
              "      <td>2020-07-03</td>\n",
              "      <td>27</td>\n",
              "      <td>1539081</td>\n",
              "      <td>63174</td>\n",
              "      <td>868372.0</td>\n",
              "      <td>607535.0</td>\n",
              "      <td>7</td>\n",
              "      <td>Julho</td>\n",
              "    </tr>\n",
              "    <tr>\n",
              "      <th>130</th>\n",
              "      <td>2020-07-04</td>\n",
              "      <td>27</td>\n",
              "      <td>1577004</td>\n",
              "      <td>64265</td>\n",
              "      <td>876359.0</td>\n",
              "      <td>636380.0</td>\n",
              "      <td>7</td>\n",
              "      <td>Julho</td>\n",
              "    </tr>\n",
              "  </tbody>\n",
              "</table>\n",
              "</div>"
            ],
            "text/plain": [
              "          Data  Semana    Casos  Mortes  Recuperados  Monitorados  Mes Mes_Desc\n",
              "126 2020-06-30      27  1402041   59594     790040.0     552407.0    6    Junho\n",
              "127 2020-07-01      27  1448753   60632     826866.0     561255.0    7    Julho\n",
              "128 2020-07-02      27  1496858   61884     852816.0     582158.0    7    Julho\n",
              "129 2020-07-03      27  1539081   63174     868372.0     607535.0    7    Julho\n",
              "130 2020-07-04      27  1577004   64265     876359.0     636380.0    7    Julho"
            ]
          },
          "metadata": {
            "tags": []
          },
          "execution_count": 1
        }
      ]
    },
    {
      "cell_type": "markdown",
      "metadata": {
        "id": "GdP0lEROoM1T",
        "colab_type": "text"
      },
      "source": [
        "#Analisando os dados"
      ]
    },
    {
      "cell_type": "code",
      "metadata": {
        "id": "R5JS5XuxoLS5",
        "colab_type": "code",
        "colab": {
          "base_uri": "https://localhost:8080/",
          "height": 476
        },
        "outputId": "155ef982-c3d5-4233-b83a-0777f8f32d81"
      },
      "source": [
        "ax = df[['Casos', 'Mortes', 'Recuperados', 'Monitorados']].plot(\n",
        "    figsize=(10,7),\n",
        "    kind='line',\n",
        "    title='Dados COVID-19 Brasil',\n",
        "    grid=True)\n",
        "ax.set_xlabel(\"Número de Dias (à partir de Fevereiro de 2020)\")\n",
        "ax.set_ylabel(\"Quantidade (em milhões)\")"
      ],
      "execution_count": 11,
      "outputs": [
        {
          "output_type": "execute_result",
          "data": {
            "text/plain": [
              "Text(0, 0.5, 'Quantidade (em milhões)')"
            ]
          },
          "metadata": {
            "tags": []
          },
          "execution_count": 11
        },
        {
          "output_type": "display_data",
          "data": {
            "image/png": "[encoded data removed]",
            "text/plain": [
              "<Figure size 720x504 with 1 Axes>"
            ]
          },
          "metadata": {
            "tags": [],
            "needs_background": "light"
          }
        }
      ]
    },
    {
      "cell_type": "code",
      "metadata": {
        "id": "qp7A6klLygUL",
        "colab_type": "code",
        "colab": {}
      },
      "source": [
        ""
      ],
      "execution_count": 2,
      "outputs": []
    }
  ]
}