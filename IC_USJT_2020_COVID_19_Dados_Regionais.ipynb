{
  "nbformat": 4,
  "nbformat_minor": 0,
  "metadata": {
    "colab": {
      "name": "IC_USJT_2020_COVID_19_Dados_Regionais",
      "provenance": [],
      "collapsed_sections": [],
      "authorship_tag": "ABX9TyNYP8VK9QMM6vVVQ8t1pBKp",
      "include_colab_link": true
    },
    "kernelspec": {
      "name": "python3",
      "display_name": "Python 3"
    }
  },
  "cells": [
    {
      "cell_type": "markdown",
      "metadata": {
        "id": "view-in-github",
        "colab_type": "text"
      },
      "source": [
        "<a href=\"https://colab.research.google.com/github/jonnes-nascimento/iniciacao_cientifica/blob/master/IC_USJT_2020_COVID_19_Dados_Regionais.ipynb\" target=\"_parent\"><img src=\"https://colab.research.google.com/assets/colab-badge.svg\" alt=\"Open In Colab\"/></a>"
      ]
    },
    {
      "cell_type": "markdown",
      "metadata": {
        "id": "xRrlFiRKi1Cz",
        "colab_type": "text"
      },
      "source": [
        "#Iniciação Científica USJT 2020 - COVID-19 (Brasil)\n"
      ]
    },
    {
      "cell_type": "code",
      "metadata": {
        "id": "uHRXexFgiNvx",
        "colab_type": "code",
        "colab": {
          "base_uri": "https://localhost:8080/",
          "height": 204
        },
        "outputId": "2780d5b8-f828-44a6-d5c8-e30e9dca1a74"
      },
      "source": [
        "# links de interesse: https://realpython.com/pandas-groupby/\n",
        "\n",
        "import pandas as pd\n",
        "\n",
        "# importando o dataset\n",
        "uri_dados = 'https://gist.githubusercontent.com/jonnes-nascimento/cb2cf5b04eabedc05203c9f7defbdeca/raw/9b512a6265d15e084ada4dea2b096e0467128b70/brazil_covid19.csv'\n",
        "\n",
        "dados = pd.read_csv(uri_dados)\n",
        "#dados = pd.read_csv(uri_dados, parse_dates=['date'], date_parser=lambda x: pd.to_datetime(x, format='%Y/%m/%d'))\n",
        "\n",
        "# renomeando as colunas\n",
        "dados.columns = ['data', 'regiao', 'estado', 'n_casos', 'n_mortes']\n",
        "\n",
        "# converte a coluna data para o tipo datetime\n",
        "dados['data'] = pd.to_datetime(dados['data'], format='%Y-%m-%d')\n",
        "\n",
        "# extrai o mes e ano da data em novas colunas\n",
        "dados['mes'] = pd.DatetimeIndex(dados['data']).month\n",
        "dados['ano'] = pd.DatetimeIndex(dados['data']).year\n",
        "\n",
        "a_substituir = {\n",
        "    1 : 'Janeiro',\n",
        "    2 : 'Fevereiro',\n",
        "    3 : 'Março',\n",
        "    4 : 'Abril',\n",
        "    5 : 'Maio',\n",
        "    6 : 'Junho',\n",
        "    7 : 'Julho',\n",
        "    8 : 'Agosto',\n",
        "    9 : 'Setembro',\n",
        "    10 : 'Outubro',\n",
        "    11 : 'Novembro',\n",
        "    12 : 'Dezembro'\n",
        "}\n",
        "\n",
        "dados['mes_descr'] = dados['mes'].map(a_substituir)\n",
        "\n",
        "# exibe os 5 primeiros registros do dataframe\n",
        "dados.head()"
      ],
      "execution_count": 9,
      "outputs": [
        {
          "output_type": "execute_result",
          "data": {
            "text/html": [
              "<div>\n",
              "<style scoped>\n",
              "    .dataframe tbody tr th:only-of-type {\n",
              "        vertical-align: middle;\n",
              "    }\n",
              "\n",
              "    .dataframe tbody tr th {\n",
              "        vertical-align: top;\n",
              "    }\n",
              "\n",
              "    .dataframe thead th {\n",
              "        text-align: right;\n",
              "    }\n",
              "</style>\n",
              "<table border=\"1\" class=\"dataframe\">\n",
              "  <thead>\n",
              "    <tr style=\"text-align: right;\">\n",
              "      <th></th>\n",
              "      <th>data</th>\n",
              "      <th>regiao</th>\n",
              "      <th>estado</th>\n",
              "      <th>n_casos</th>\n",
              "      <th>n_mortes</th>\n",
              "      <th>mes</th>\n",
              "      <th>ano</th>\n",
              "      <th>mes_descr</th>\n",
              "    </tr>\n",
              "  </thead>\n",
              "  <tbody>\n",
              "    <tr>\n",
              "      <th>0</th>\n",
              "      <td>2020-02-25</td>\n",
              "      <td>Centro-Oeste</td>\n",
              "      <td>DF</td>\n",
              "      <td>0</td>\n",
              "      <td>0</td>\n",
              "      <td>2</td>\n",
              "      <td>2020</td>\n",
              "      <td>Fevereiro</td>\n",
              "    </tr>\n",
              "    <tr>\n",
              "      <th>1</th>\n",
              "      <td>2020-02-25</td>\n",
              "      <td>Centro-Oeste</td>\n",
              "      <td>GO</td>\n",
              "      <td>0</td>\n",
              "      <td>0</td>\n",
              "      <td>2</td>\n",
              "      <td>2020</td>\n",
              "      <td>Fevereiro</td>\n",
              "    </tr>\n",
              "    <tr>\n",
              "      <th>2</th>\n",
              "      <td>2020-02-25</td>\n",
              "      <td>Centro-Oeste</td>\n",
              "      <td>MS</td>\n",
              "      <td>0</td>\n",
              "      <td>0</td>\n",
              "      <td>2</td>\n",
              "      <td>2020</td>\n",
              "      <td>Fevereiro</td>\n",
              "    </tr>\n",
              "    <tr>\n",
              "      <th>3</th>\n",
              "      <td>2020-02-25</td>\n",
              "      <td>Centro-Oeste</td>\n",
              "      <td>MT</td>\n",
              "      <td>0</td>\n",
              "      <td>0</td>\n",
              "      <td>2</td>\n",
              "      <td>2020</td>\n",
              "      <td>Fevereiro</td>\n",
              "    </tr>\n",
              "    <tr>\n",
              "      <th>4</th>\n",
              "      <td>2020-02-25</td>\n",
              "      <td>Nordeste</td>\n",
              "      <td>AL</td>\n",
              "      <td>0</td>\n",
              "      <td>0</td>\n",
              "      <td>2</td>\n",
              "      <td>2020</td>\n",
              "      <td>Fevereiro</td>\n",
              "    </tr>\n",
              "  </tbody>\n",
              "</table>\n",
              "</div>"
            ],
            "text/plain": [
              "        data        regiao estado  n_casos  n_mortes  mes   ano  mes_descr\n",
              "0 2020-02-25  Centro-Oeste     DF        0         0    2  2020  Fevereiro\n",
              "1 2020-02-25  Centro-Oeste     GO        0         0    2  2020  Fevereiro\n",
              "2 2020-02-25  Centro-Oeste     MS        0         0    2  2020  Fevereiro\n",
              "3 2020-02-25  Centro-Oeste     MT        0         0    2  2020  Fevereiro\n",
              "4 2020-02-25      Nordeste     AL        0         0    2  2020  Fevereiro"
            ]
          },
          "metadata": {
            "tags": []
          },
          "execution_count": 9
        }
      ]
    },
    {
      "cell_type": "code",
      "metadata": {
        "id": "CFpxBXCPjF4j",
        "colab_type": "code",
        "colab": {
          "base_uri": "https://localhost:8080/",
          "height": 979
        },
        "outputId": "237bfe3a-c68a-4efe-b8f1-9667f97f92f2"
      },
      "source": [
        "# agrupando os dados e analisando a quantidade de casos por por mês, ano e por região\n",
        "casos_regiao_mes = dados.groupby(['regiao', 'mes_descr', 'mes', 'ano'], as_index=False)['n_casos'].sum()\n",
        "\n",
        "# agrupando os dados e analisando a quantidade de mortes por por mês, ano e por região\n",
        "mortes_regiao_mes = dados.groupby(['regiao', 'mes_descr', 'mes', 'ano'], as_index=False)['n_mortes'].sum()\n",
        "mortes_regiao_mes.sort_values('mes')"
      ],
      "execution_count": 19,
      "outputs": [
        {
          "output_type": "execute_result",
          "data": {
            "text/html": [
              "<div>\n",
              "<style scoped>\n",
              "    .dataframe tbody tr th:only-of-type {\n",
              "        vertical-align: middle;\n",
              "    }\n",
              "\n",
              "    .dataframe tbody tr th {\n",
              "        vertical-align: top;\n",
              "    }\n",
              "\n",
              "    .dataframe thead th {\n",
              "        text-align: right;\n",
              "    }\n",
              "</style>\n",
              "<table border=\"1\" class=\"dataframe\">\n",
              "  <thead>\n",
              "    <tr style=\"text-align: right;\">\n",
              "      <th></th>\n",
              "      <th>regiao</th>\n",
              "      <th>mes_descr</th>\n",
              "      <th>mes</th>\n",
              "      <th>ano</th>\n",
              "      <th>n_mortes</th>\n",
              "    </tr>\n",
              "  </thead>\n",
              "  <tbody>\n",
              "    <tr>\n",
              "      <th>1</th>\n",
              "      <td>Centro-Oeste</td>\n",
              "      <td>Fevereiro</td>\n",
              "      <td>2</td>\n",
              "      <td>2020</td>\n",
              "      <td>0</td>\n",
              "    </tr>\n",
              "    <tr>\n",
              "      <th>25</th>\n",
              "      <td>Sul</td>\n",
              "      <td>Fevereiro</td>\n",
              "      <td>2</td>\n",
              "      <td>2020</td>\n",
              "      <td>0</td>\n",
              "    </tr>\n",
              "    <tr>\n",
              "      <th>19</th>\n",
              "      <td>Sudeste</td>\n",
              "      <td>Fevereiro</td>\n",
              "      <td>2</td>\n",
              "      <td>2020</td>\n",
              "      <td>0</td>\n",
              "    </tr>\n",
              "    <tr>\n",
              "      <th>7</th>\n",
              "      <td>Nordeste</td>\n",
              "      <td>Fevereiro</td>\n",
              "      <td>2</td>\n",
              "      <td>2020</td>\n",
              "      <td>0</td>\n",
              "    </tr>\n",
              "    <tr>\n",
              "      <th>13</th>\n",
              "      <td>Norte</td>\n",
              "      <td>Fevereiro</td>\n",
              "      <td>2</td>\n",
              "      <td>2020</td>\n",
              "      <td>0</td>\n",
              "    </tr>\n",
              "    <tr>\n",
              "      <th>29</th>\n",
              "      <td>Sul</td>\n",
              "      <td>Março</td>\n",
              "      <td>3</td>\n",
              "      <td>2020</td>\n",
              "      <td>34</td>\n",
              "    </tr>\n",
              "    <tr>\n",
              "      <th>23</th>\n",
              "      <td>Sudeste</td>\n",
              "      <td>Março</td>\n",
              "      <td>3</td>\n",
              "      <td>2020</td>\n",
              "      <td>849</td>\n",
              "    </tr>\n",
              "    <tr>\n",
              "      <th>5</th>\n",
              "      <td>Centro-Oeste</td>\n",
              "      <td>Março</td>\n",
              "      <td>3</td>\n",
              "      <td>2020</td>\n",
              "      <td>12</td>\n",
              "    </tr>\n",
              "    <tr>\n",
              "      <th>17</th>\n",
              "      <td>Norte</td>\n",
              "      <td>Março</td>\n",
              "      <td>3</td>\n",
              "      <td>2020</td>\n",
              "      <td>10</td>\n",
              "    </tr>\n",
              "    <tr>\n",
              "      <th>11</th>\n",
              "      <td>Nordeste</td>\n",
              "      <td>Março</td>\n",
              "      <td>3</td>\n",
              "      <td>2020</td>\n",
              "      <td>76</td>\n",
              "    </tr>\n",
              "    <tr>\n",
              "      <th>24</th>\n",
              "      <td>Sul</td>\n",
              "      <td>Abril</td>\n",
              "      <td>4</td>\n",
              "      <td>2020</td>\n",
              "      <td>2632</td>\n",
              "    </tr>\n",
              "    <tr>\n",
              "      <th>18</th>\n",
              "      <td>Sudeste</td>\n",
              "      <td>Abril</td>\n",
              "      <td>4</td>\n",
              "      <td>2020</td>\n",
              "      <td>40033</td>\n",
              "    </tr>\n",
              "    <tr>\n",
              "      <th>0</th>\n",
              "      <td>Centro-Oeste</td>\n",
              "      <td>Abril</td>\n",
              "      <td>4</td>\n",
              "      <td>2020</td>\n",
              "      <td>1258</td>\n",
              "    </tr>\n",
              "    <tr>\n",
              "      <th>6</th>\n",
              "      <td>Nordeste</td>\n",
              "      <td>Abril</td>\n",
              "      <td>4</td>\n",
              "      <td>2020</td>\n",
              "      <td>15777</td>\n",
              "    </tr>\n",
              "    <tr>\n",
              "      <th>12</th>\n",
              "      <td>Norte</td>\n",
              "      <td>Abril</td>\n",
              "      <td>4</td>\n",
              "      <td>2020</td>\n",
              "      <td>6304</td>\n",
              "    </tr>\n",
              "    <tr>\n",
              "      <th>10</th>\n",
              "      <td>Nordeste</td>\n",
              "      <td>Maio</td>\n",
              "      <td>5</td>\n",
              "      <td>2020</td>\n",
              "      <td>148923</td>\n",
              "    </tr>\n",
              "    <tr>\n",
              "      <th>28</th>\n",
              "      <td>Sul</td>\n",
              "      <td>Maio</td>\n",
              "      <td>5</td>\n",
              "      <td>2020</td>\n",
              "      <td>10941</td>\n",
              "    </tr>\n",
              "    <tr>\n",
              "      <th>16</th>\n",
              "      <td>Norte</td>\n",
              "      <td>Maio</td>\n",
              "      <td>5</td>\n",
              "      <td>2020</td>\n",
              "      <td>93822</td>\n",
              "    </tr>\n",
              "    <tr>\n",
              "      <th>4</th>\n",
              "      <td>Centro-Oeste</td>\n",
              "      <td>Maio</td>\n",
              "      <td>5</td>\n",
              "      <td>2020</td>\n",
              "      <td>5822</td>\n",
              "    </tr>\n",
              "    <tr>\n",
              "      <th>22</th>\n",
              "      <td>Sudeste</td>\n",
              "      <td>Maio</td>\n",
              "      <td>5</td>\n",
              "      <td>2020</td>\n",
              "      <td>248524</td>\n",
              "    </tr>\n",
              "    <tr>\n",
              "      <th>27</th>\n",
              "      <td>Sul</td>\n",
              "      <td>Junho</td>\n",
              "      <td>6</td>\n",
              "      <td>2020</td>\n",
              "      <td>29637</td>\n",
              "    </tr>\n",
              "    <tr>\n",
              "      <th>3</th>\n",
              "      <td>Centro-Oeste</td>\n",
              "      <td>Junho</td>\n",
              "      <td>6</td>\n",
              "      <td>2020</td>\n",
              "      <td>27751</td>\n",
              "    </tr>\n",
              "    <tr>\n",
              "      <th>21</th>\n",
              "      <td>Sudeste</td>\n",
              "      <td>Junho</td>\n",
              "      <td>6</td>\n",
              "      <td>2020</td>\n",
              "      <td>626428</td>\n",
              "    </tr>\n",
              "    <tr>\n",
              "      <th>9</th>\n",
              "      <td>Nordeste</td>\n",
              "      <td>Junho</td>\n",
              "      <td>6</td>\n",
              "      <td>2020</td>\n",
              "      <td>430926</td>\n",
              "    </tr>\n",
              "    <tr>\n",
              "      <th>15</th>\n",
              "      <td>Norte</td>\n",
              "      <td>Junho</td>\n",
              "      <td>6</td>\n",
              "      <td>2020</td>\n",
              "      <td>238676</td>\n",
              "    </tr>\n",
              "    <tr>\n",
              "      <th>8</th>\n",
              "      <td>Nordeste</td>\n",
              "      <td>Julho</td>\n",
              "      <td>7</td>\n",
              "      <td>2020</td>\n",
              "      <td>80695</td>\n",
              "    </tr>\n",
              "    <tr>\n",
              "      <th>2</th>\n",
              "      <td>Centro-Oeste</td>\n",
              "      <td>Julho</td>\n",
              "      <td>7</td>\n",
              "      <td>2020</td>\n",
              "      <td>7979</td>\n",
              "    </tr>\n",
              "    <tr>\n",
              "      <th>26</th>\n",
              "      <td>Sul</td>\n",
              "      <td>Julho</td>\n",
              "      <td>7</td>\n",
              "      <td>2020</td>\n",
              "      <td>7032</td>\n",
              "    </tr>\n",
              "    <tr>\n",
              "      <th>20</th>\n",
              "      <td>Sudeste</td>\n",
              "      <td>Julho</td>\n",
              "      <td>7</td>\n",
              "      <td>2020</td>\n",
              "      <td>115044</td>\n",
              "    </tr>\n",
              "    <tr>\n",
              "      <th>14</th>\n",
              "      <td>Norte</td>\n",
              "      <td>Julho</td>\n",
              "      <td>7</td>\n",
              "      <td>2020</td>\n",
              "      <td>39205</td>\n",
              "    </tr>\n",
              "  </tbody>\n",
              "</table>\n",
              "</div>"
            ],
            "text/plain": [
              "          regiao  mes_descr  mes   ano  n_mortes\n",
              "1   Centro-Oeste  Fevereiro    2  2020         0\n",
              "25           Sul  Fevereiro    2  2020         0\n",
              "19       Sudeste  Fevereiro    2  2020         0\n",
              "7       Nordeste  Fevereiro    2  2020         0\n",
              "13         Norte  Fevereiro    2  2020         0\n",
              "29           Sul      Março    3  2020        34\n",
              "23       Sudeste      Março    3  2020       849\n",
              "5   Centro-Oeste      Março    3  2020        12\n",
              "17         Norte      Março    3  2020        10\n",
              "11      Nordeste      Março    3  2020        76\n",
              "24           Sul      Abril    4  2020      2632\n",
              "18       Sudeste      Abril    4  2020     40033\n",
              "0   Centro-Oeste      Abril    4  2020      1258\n",
              "6       Nordeste      Abril    4  2020     15777\n",
              "12         Norte      Abril    4  2020      6304\n",
              "10      Nordeste       Maio    5  2020    148923\n",
              "28           Sul       Maio    5  2020     10941\n",
              "16         Norte       Maio    5  2020     93822\n",
              "4   Centro-Oeste       Maio    5  2020      5822\n",
              "22       Sudeste       Maio    5  2020    248524\n",
              "27           Sul      Junho    6  2020     29637\n",
              "3   Centro-Oeste      Junho    6  2020     27751\n",
              "21       Sudeste      Junho    6  2020    626428\n",
              "9       Nordeste      Junho    6  2020    430926\n",
              "15         Norte      Junho    6  2020    238676\n",
              "8       Nordeste      Julho    7  2020     80695\n",
              "2   Centro-Oeste      Julho    7  2020      7979\n",
              "26           Sul      Julho    7  2020      7032\n",
              "20       Sudeste      Julho    7  2020    115044\n",
              "14         Norte      Julho    7  2020     39205"
            ]
          },
          "metadata": {
            "tags": []
          },
          "execution_count": 19
        }
      ]
    },
    {
      "cell_type": "code",
      "metadata": {
        "id": "h631l0StCrf1",
        "colab_type": "code",
        "colab": {
          "base_uri": "https://localhost:8080/",
          "height": 635
        },
        "outputId": "8bd0a60b-3ae1-405e-9388-f23fe74a8ab8"
      },
      "source": [
        "# análise gráfica da quantidade de casos por região, mês e ano\n",
        "casos_regiao_mes.pivot(index = 'regiao', columns='mes', values='n_casos').plot(kind='bar', stacked=True, figsize=(10,9))"
      ],
      "execution_count": 21,
      "outputs": [
        {
          "output_type": "execute_result",
          "data": {
            "text/plain": [
              "<matplotlib.axes._subplots.AxesSubplot at 0x7fe14dd79eb8>"
            ]
          },
          "metadata": {
            "tags": []
          },
          "execution_count": 21
        },
        {
          "output_type": "display_data",
          "data": {
            "image/png": "[encoded data removed]",
            "text/plain": [
              "<Figure size 720x648 with 1 Axes>"
            ]
          },
          "metadata": {
            "tags": [],
            "needs_background": "light"
          }
        }
      ]
    },
    {
      "cell_type": "code",
      "metadata": {
        "id": "95axbNIGwSA0",
        "colab_type": "code",
        "colab": {
          "base_uri": "https://localhost:8080/",
          "height": 34
        },
        "outputId": "1fb68b87-fb86-4323-a99e-44fb2d6cf07e"
      },
      "source": [
        "print('Número de casos: %d' % dados['n_casos'].sum())"
      ],
      "execution_count": 12,
      "outputs": [
        {
          "output_type": "stream",
          "text": [
            "Número de casos: 43228547\n"
          ],
          "name": "stdout"
        }
      ]
    },
    {
      "cell_type": "code",
      "metadata": {
        "id": "pjY7QAtX9O3K",
        "colab_type": "code",
        "colab": {
          "base_uri": "https://localhost:8080/",
          "height": 635
        },
        "outputId": "05e2b6c7-1343-402d-ef49-3d87077c0518"
      },
      "source": [
        "# análise gráfica da quantidade de mortes por região, mês e ano\n",
        "mortes_regiao_mes.pivot(index = 'regiao', columns='mes', values='n_mortes').plot(kind='bar', stacked=True, figsize=(10,9))"
      ],
      "execution_count": 22,
      "outputs": [
        {
          "output_type": "execute_result",
          "data": {
            "text/plain": [
              "<matplotlib.axes._subplots.AxesSubplot at 0x7fe14df062b0>"
            ]
          },
          "metadata": {
            "tags": []
          },
          "execution_count": 22
        },
        {
          "output_type": "display_data",
          "data": {
            "image/png": "[encoded data removed]",
            "text/plain": [
              "<Figure size 720x648 with 1 Axes>"
            ]
          },
          "metadata": {
            "tags": [],
            "needs_background": "light"
          }
        }
      ]
    },
    {
      "cell_type": "code",
      "metadata": {
        "id": "k8RnkdKpN8Z0",
        "colab_type": "code",
        "colab": {
          "base_uri": "https://localhost:8080/",
          "height": 34
        },
        "outputId": "4e0b45d7-5278-4db5-8269-4095760939cb"
      },
      "source": [
        "print('Número de mortes: %d' % dados['n_mortes'].sum())"
      ],
      "execution_count": 14,
      "outputs": [
        {
          "output_type": "stream",
          "text": [
            "Número de mortes: 2178390\n"
          ],
          "name": "stdout"
        }
      ]
    },
    {
      "cell_type": "code",
      "metadata": {
        "id": "i2MjbLAJQQRm",
        "colab_type": "code",
        "colab": {
          "base_uri": "https://localhost:8080/",
          "height": 586
        },
        "outputId": "e864af83-f6b3-4671-d4b0-e9f9c2bc8753"
      },
      "source": [
        "casos_estado_mes = dados.groupby(['estado', 'mes_descr', 'mes', 'ano'], as_index=False)['n_casos'].sum()\n",
        "casos_estado_mes.pivot(index = 'estado', columns='mes', values='n_casos').plot(\n",
        "      kind='bar', \n",
        "      stacked=True, \n",
        "      figsize=(10,9)\n",
        "  )"
      ],
      "execution_count": 26,
      "outputs": [
        {
          "output_type": "execute_result",
          "data": {
            "text/plain": [
              "<matplotlib.axes._subplots.AxesSubplot at 0x7fe14dce7ac8>"
            ]
          },
          "metadata": {
            "tags": []
          },
          "execution_count": 26
        },
        {
          "output_type": "display_data",
          "data": {
            "image/png": "[encoded data removed]",
            "text/plain": [
              "<Figure size 720x648 with 1 Axes>"
            ]
          },
          "metadata": {
            "tags": [],
            "needs_background": "light"
          }
        }
      ]
    }
  ]
}