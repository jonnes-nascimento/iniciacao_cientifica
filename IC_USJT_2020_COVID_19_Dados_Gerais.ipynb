{
  "nbformat": 4,
  "nbformat_minor": 0,
  "metadata": {
    "colab": {
      "name": "IC_USJT_2020_COVID_19_Dados_Gerais",
      "provenance": [],
      "authorship_tag": "ABX9TyOIhGv5mjnSJJ0WY28bjMX0",
      "include_colab_link": true
    },
    "kernelspec": {
      "name": "python3",
      "display_name": "Python 3"
    }
  },
  "cells": [
    {
      "cell_type": "markdown",
      "metadata": {
        "id": "view-in-github",
        "colab_type": "text"
      },
      "source": [
        "<a href=\"https://colab.research.google.com/github/jonnes-nascimento/iniciacao_cientifica/blob/master/IC_USJT_2020_COVID_19_Dados_Gerais.ipynb\" target=\"_parent\"><img src=\"https://colab.research.google.com/assets/colab-badge.svg\" alt=\"Open In Colab\"/></a>"
      ]
    },
    {
      "cell_type": "markdown",
      "metadata": {
        "id": "4fOoQ8TgjRN1",
        "colab_type": "text"
      },
      "source": [
        "#Tratamento básico dos dados"
      ]
    },
    {
      "cell_type": "code",
      "metadata": {
        "id": "MhkZ4hb1h-XQ",
        "colab_type": "code",
        "colab": {
          "base_uri": "https://localhost:8080/",
          "height": 204
        },
        "outputId": "4f04f0c5-05fb-494f-f0e2-36b0a9f3f0f4"
      },
      "source": [
        "import numpy as np\n",
        "import pandas as pd\n",
        "import matplotlib.pyplot as plt\n",
        "import seaborn as sns\n",
        "\n",
        "uri = \"https://gist.githubusercontent.com/jonnes-nascimento/2c1cf5448199656ba0918e28167aad9c/raw/200927a50d9e8150488c51574b4cc5907fd02848/brazil_covid19_macro.csv\"\n",
        "\n",
        "# lê os dados do dataset no Gist\n",
        "dados = pd.read_csv(uri)\n",
        "\n",
        "# apaga a coluna country pois os dados já trazem somente informações do Brasil\n",
        "dados = dados.drop(columns = ['country'], axis=1)\n",
        "\n",
        "# definição dos novos nomes das colunas\n",
        "a_renomear = {\n",
        "    \"date\" : \"Data\",\n",
        "    \"week\" : \"Semana\",\n",
        "    \"cases\" : \"Casos\",\n",
        "    \"deaths\" : \"Mortes\",\n",
        "    \"recovered\" : \"Recuperados\",\n",
        "    \"monitoring\" : \"Monitorados\"\n",
        "}\n",
        "\n",
        "# renomeia as colunas\n",
        "dados = dados.rename(columns = a_renomear)\n",
        "\n",
        "# converte a coluna de data\n",
        "dados['Data'] = pd.to_datetime(dados['Data'], format='%Y-%m-%d')\n",
        "\n",
        "# extrai o mes e ano da data em novas colunas\n",
        "dados['Mes'] = pd.DatetimeIndex(dados['Data']).month\n",
        "\n",
        "a_substituir = {\n",
        "    1 : 'Janeiro',\n",
        "    2 : 'Fevereiro',\n",
        "    3 : 'Março',\n",
        "    4 : 'Abril',\n",
        "    5 : 'Maio',\n",
        "    6 : 'Junho',\n",
        "    7 : 'Julho',\n",
        "    8 : 'Agosto',\n",
        "    9 : 'Setembro',\n",
        "    10 : 'Outubro',\n",
        "    11 : 'Novembro',\n",
        "    12 : 'Dezembro'\n",
        "}\n",
        "\n",
        "dados['Mes_Desc'] = dados['Mes'].map(a_substituir)\n",
        "\n",
        "# gera um dataframe com os dados e preenche os espaços em branco, nas colunas de valores, com zero\n",
        "df = pd.DataFrame(dados).fillna(0)\n",
        "\n",
        "# exibe os últimos 5 registros do dataset\n",
        "df.head()"
      ],
      "execution_count": 116,
      "outputs": [
        {
          "output_type": "execute_result",
          "data": {
            "text/html": [
              "<div>\n",
              "<style scoped>\n",
              "    .dataframe tbody tr th:only-of-type {\n",
              "        vertical-align: middle;\n",
              "    }\n",
              "\n",
              "    .dataframe tbody tr th {\n",
              "        vertical-align: top;\n",
              "    }\n",
              "\n",
              "    .dataframe thead th {\n",
              "        text-align: right;\n",
              "    }\n",
              "</style>\n",
              "<table border=\"1\" class=\"dataframe\">\n",
              "  <thead>\n",
              "    <tr style=\"text-align: right;\">\n",
              "      <th></th>\n",
              "      <th>Data</th>\n",
              "      <th>Semana</th>\n",
              "      <th>Casos</th>\n",
              "      <th>Mortes</th>\n",
              "      <th>Recuperados</th>\n",
              "      <th>Monitorados</th>\n",
              "      <th>Mes</th>\n",
              "      <th>Mes_Desc</th>\n",
              "    </tr>\n",
              "  </thead>\n",
              "  <tbody>\n",
              "    <tr>\n",
              "      <th>0</th>\n",
              "      <td>2020-02-25</td>\n",
              "      <td>9</td>\n",
              "      <td>0</td>\n",
              "      <td>0</td>\n",
              "      <td>0.0</td>\n",
              "      <td>0.0</td>\n",
              "      <td>2</td>\n",
              "      <td>Fevereiro</td>\n",
              "    </tr>\n",
              "    <tr>\n",
              "      <th>1</th>\n",
              "      <td>2020-02-26</td>\n",
              "      <td>9</td>\n",
              "      <td>1</td>\n",
              "      <td>0</td>\n",
              "      <td>0.0</td>\n",
              "      <td>0.0</td>\n",
              "      <td>2</td>\n",
              "      <td>Fevereiro</td>\n",
              "    </tr>\n",
              "    <tr>\n",
              "      <th>2</th>\n",
              "      <td>2020-02-27</td>\n",
              "      <td>9</td>\n",
              "      <td>1</td>\n",
              "      <td>0</td>\n",
              "      <td>0.0</td>\n",
              "      <td>0.0</td>\n",
              "      <td>2</td>\n",
              "      <td>Fevereiro</td>\n",
              "    </tr>\n",
              "    <tr>\n",
              "      <th>3</th>\n",
              "      <td>2020-02-28</td>\n",
              "      <td>9</td>\n",
              "      <td>1</td>\n",
              "      <td>0</td>\n",
              "      <td>0.0</td>\n",
              "      <td>0.0</td>\n",
              "      <td>2</td>\n",
              "      <td>Fevereiro</td>\n",
              "    </tr>\n",
              "    <tr>\n",
              "      <th>4</th>\n",
              "      <td>2020-02-29</td>\n",
              "      <td>9</td>\n",
              "      <td>2</td>\n",
              "      <td>0</td>\n",
              "      <td>0.0</td>\n",
              "      <td>0.0</td>\n",
              "      <td>2</td>\n",
              "      <td>Fevereiro</td>\n",
              "    </tr>\n",
              "  </tbody>\n",
              "</table>\n",
              "</div>"
            ],
            "text/plain": [
              "        Data  Semana  Casos  Mortes  Recuperados  Monitorados  Mes   Mes_Desc\n",
              "0 2020-02-25       9      0       0          0.0          0.0    2  Fevereiro\n",
              "1 2020-02-26       9      1       0          0.0          0.0    2  Fevereiro\n",
              "2 2020-02-27       9      1       0          0.0          0.0    2  Fevereiro\n",
              "3 2020-02-28       9      1       0          0.0          0.0    2  Fevereiro\n",
              "4 2020-02-29       9      2       0          0.0          0.0    2  Fevereiro"
            ]
          },
          "metadata": {
            "tags": []
          },
          "execution_count": 116
        }
      ]
    },
    {
      "cell_type": "code",
      "metadata": {
        "id": "hOTk9mBTkjl1",
        "colab_type": "code",
        "colab": {
          "base_uri": "https://localhost:8080/",
          "height": 204
        },
        "outputId": "f2ac81d4-32ef-4068-dabc-f9b7a9975d46"
      },
      "source": [
        "df.tail()"
      ],
      "execution_count": 117,
      "outputs": [
        {
          "output_type": "execute_result",
          "data": {
            "text/html": [
              "<div>\n",
              "<style scoped>\n",
              "    .dataframe tbody tr th:only-of-type {\n",
              "        vertical-align: middle;\n",
              "    }\n",
              "\n",
              "    .dataframe tbody tr th {\n",
              "        vertical-align: top;\n",
              "    }\n",
              "\n",
              "    .dataframe thead th {\n",
              "        text-align: right;\n",
              "    }\n",
              "</style>\n",
              "<table border=\"1\" class=\"dataframe\">\n",
              "  <thead>\n",
              "    <tr style=\"text-align: right;\">\n",
              "      <th></th>\n",
              "      <th>Data</th>\n",
              "      <th>Semana</th>\n",
              "      <th>Casos</th>\n",
              "      <th>Mortes</th>\n",
              "      <th>Recuperados</th>\n",
              "      <th>Monitorados</th>\n",
              "      <th>Mes</th>\n",
              "      <th>Mes_Desc</th>\n",
              "    </tr>\n",
              "  </thead>\n",
              "  <tbody>\n",
              "    <tr>\n",
              "      <th>126</th>\n",
              "      <td>2020-06-30</td>\n",
              "      <td>27</td>\n",
              "      <td>1402041</td>\n",
              "      <td>59594</td>\n",
              "      <td>790040.0</td>\n",
              "      <td>552407.0</td>\n",
              "      <td>6</td>\n",
              "      <td>Junho</td>\n",
              "    </tr>\n",
              "    <tr>\n",
              "      <th>127</th>\n",
              "      <td>2020-07-01</td>\n",
              "      <td>27</td>\n",
              "      <td>1448753</td>\n",
              "      <td>60632</td>\n",
              "      <td>826866.0</td>\n",
              "      <td>561255.0</td>\n",
              "      <td>7</td>\n",
              "      <td>Julho</td>\n",
              "    </tr>\n",
              "    <tr>\n",
              "      <th>128</th>\n",
              "      <td>2020-07-02</td>\n",
              "      <td>27</td>\n",
              "      <td>1496858</td>\n",
              "      <td>61884</td>\n",
              "      <td>852816.0</td>\n",
              "      <td>582158.0</td>\n",
              "      <td>7</td>\n",
              "      <td>Julho</td>\n",
              "    </tr>\n",
              "    <tr>\n",
              "      <th>129</th>\n",
              "      <td>2020-07-03</td>\n",
              "      <td>27</td>\n",
              "      <td>1539081</td>\n",
              "      <td>63174</td>\n",
              "      <td>868372.0</td>\n",
              "      <td>607535.0</td>\n",
              "      <td>7</td>\n",
              "      <td>Julho</td>\n",
              "    </tr>\n",
              "    <tr>\n",
              "      <th>130</th>\n",
              "      <td>2020-07-04</td>\n",
              "      <td>27</td>\n",
              "      <td>1577004</td>\n",
              "      <td>64265</td>\n",
              "      <td>876359.0</td>\n",
              "      <td>636380.0</td>\n",
              "      <td>7</td>\n",
              "      <td>Julho</td>\n",
              "    </tr>\n",
              "  </tbody>\n",
              "</table>\n",
              "</div>"
            ],
            "text/plain": [
              "          Data  Semana    Casos  Mortes  Recuperados  Monitorados  Mes Mes_Desc\n",
              "126 2020-06-30      27  1402041   59594     790040.0     552407.0    6    Junho\n",
              "127 2020-07-01      27  1448753   60632     826866.0     561255.0    7    Julho\n",
              "128 2020-07-02      27  1496858   61884     852816.0     582158.0    7    Julho\n",
              "129 2020-07-03      27  1539081   63174     868372.0     607535.0    7    Julho\n",
              "130 2020-07-04      27  1577004   64265     876359.0     636380.0    7    Julho"
            ]
          },
          "metadata": {
            "tags": []
          },
          "execution_count": 117
        }
      ]
    },
    {
      "cell_type": "markdown",
      "metadata": {
        "id": "GdP0lEROoM1T",
        "colab_type": "text"
      },
      "source": [
        "#Análise dos dados"
      ]
    },
    {
      "cell_type": "code",
      "metadata": {
        "id": "R5JS5XuxoLS5",
        "colab_type": "code",
        "colab": {
          "base_uri": "https://localhost:8080/",
          "height": 476
        },
        "outputId": "b576d12d-5938-4142-b3a8-c58011d679b4"
      },
      "source": [
        "ax = df[['Casos', 'Mortes', 'Recuperados', 'Monitorados']].plot(\n",
        "    figsize=(10,7),\n",
        "    kind='line',\n",
        "    title='Dados COVID-19 Brasil',\n",
        "    grid=True)\n",
        "ax.set_xlabel(\"Número de Dias (à partir de Fevereiro de 2020)\")\n",
        "ax.set_ylabel(\"Quantidade (em milhões)\")"
      ],
      "execution_count": 41,
      "outputs": [
        {
          "output_type": "execute_result",
          "data": {
            "text/plain": [
              "Text(0, 0.5, 'Quantidade (em milhões)')"
            ]
          },
          "metadata": {
            "tags": []
          },
          "execution_count": 41
        },
        {
          "output_type": "display_data",
          "data": {
            "image/png": "[encoded data removed]",
            "text/plain": [
              "<Figure size 720x504 with 1 Axes>"
            ]
          },
          "metadata": {
            "tags": [],
            "needs_background": "light"
          }
        }
      ]
    },
    {
      "cell_type": "code",
      "metadata": {
        "id": "roofOrerkCQt",
        "colab_type": "code",
        "colab": {
          "base_uri": "https://localhost:8080/",
          "height": 204
        },
        "outputId": "5a02c1fa-78e5-48ed-fb4e-b1ce3f98c51a"
      },
      "source": [
        "df.head()"
      ],
      "execution_count": 42,
      "outputs": [
        {
          "output_type": "execute_result",
          "data": {
            "text/html": [
              "<div>\n",
              "<style scoped>\n",
              "    .dataframe tbody tr th:only-of-type {\n",
              "        vertical-align: middle;\n",
              "    }\n",
              "\n",
              "    .dataframe tbody tr th {\n",
              "        vertical-align: top;\n",
              "    }\n",
              "\n",
              "    .dataframe thead th {\n",
              "        text-align: right;\n",
              "    }\n",
              "</style>\n",
              "<table border=\"1\" class=\"dataframe\">\n",
              "  <thead>\n",
              "    <tr style=\"text-align: right;\">\n",
              "      <th></th>\n",
              "      <th>Data</th>\n",
              "      <th>Semana</th>\n",
              "      <th>Casos</th>\n",
              "      <th>Mortes</th>\n",
              "      <th>Recuperados</th>\n",
              "      <th>Monitorados</th>\n",
              "      <th>Mes</th>\n",
              "      <th>Mes_Desc</th>\n",
              "    </tr>\n",
              "  </thead>\n",
              "  <tbody>\n",
              "    <tr>\n",
              "      <th>0</th>\n",
              "      <td>2020-02-25</td>\n",
              "      <td>9</td>\n",
              "      <td>0</td>\n",
              "      <td>0</td>\n",
              "      <td>0.0</td>\n",
              "      <td>0.0</td>\n",
              "      <td>2</td>\n",
              "      <td>Fevereiro</td>\n",
              "    </tr>\n",
              "    <tr>\n",
              "      <th>1</th>\n",
              "      <td>2020-02-26</td>\n",
              "      <td>9</td>\n",
              "      <td>1</td>\n",
              "      <td>0</td>\n",
              "      <td>0.0</td>\n",
              "      <td>0.0</td>\n",
              "      <td>2</td>\n",
              "      <td>Fevereiro</td>\n",
              "    </tr>\n",
              "    <tr>\n",
              "      <th>2</th>\n",
              "      <td>2020-02-27</td>\n",
              "      <td>9</td>\n",
              "      <td>1</td>\n",
              "      <td>0</td>\n",
              "      <td>0.0</td>\n",
              "      <td>0.0</td>\n",
              "      <td>2</td>\n",
              "      <td>Fevereiro</td>\n",
              "    </tr>\n",
              "    <tr>\n",
              "      <th>3</th>\n",
              "      <td>2020-02-28</td>\n",
              "      <td>9</td>\n",
              "      <td>1</td>\n",
              "      <td>0</td>\n",
              "      <td>0.0</td>\n",
              "      <td>0.0</td>\n",
              "      <td>2</td>\n",
              "      <td>Fevereiro</td>\n",
              "    </tr>\n",
              "    <tr>\n",
              "      <th>4</th>\n",
              "      <td>2020-02-29</td>\n",
              "      <td>9</td>\n",
              "      <td>2</td>\n",
              "      <td>0</td>\n",
              "      <td>0.0</td>\n",
              "      <td>0.0</td>\n",
              "      <td>2</td>\n",
              "      <td>Fevereiro</td>\n",
              "    </tr>\n",
              "  </tbody>\n",
              "</table>\n",
              "</div>"
            ],
            "text/plain": [
              "        Data  Semana  Casos  Mortes  Recuperados  Monitorados  Mes   Mes_Desc\n",
              "0 2020-02-25       9      0       0          0.0          0.0    2  Fevereiro\n",
              "1 2020-02-26       9      1       0          0.0          0.0    2  Fevereiro\n",
              "2 2020-02-27       9      1       0          0.0          0.0    2  Fevereiro\n",
              "3 2020-02-28       9      1       0          0.0          0.0    2  Fevereiro\n",
              "4 2020-02-29       9      2       0          0.0          0.0    2  Fevereiro"
            ]
          },
          "metadata": {
            "tags": []
          },
          "execution_count": 42
        }
      ]
    },
    {
      "cell_type": "code",
      "metadata": {
        "id": "gnxcmYnDnABc",
        "colab_type": "code",
        "colab": {
          "base_uri": "https://localhost:8080/",
          "height": 34
        },
        "outputId": "c47b6010-a62e-416b-d7a1-70320fbb1ac0"
      },
      "source": [
        "df.shape"
      ],
      "execution_count": 43,
      "outputs": [
        {
          "output_type": "execute_result",
          "data": {
            "text/plain": [
              "(131, 8)"
            ]
          },
          "metadata": {
            "tags": []
          },
          "execution_count": 43
        }
      ]
    },
    {
      "cell_type": "code",
      "metadata": {
        "id": "qp7A6klLygUL",
        "colab_type": "code",
        "colab": {
          "base_uri": "https://localhost:8080/",
          "height": 316
        },
        "outputId": "e628a2cb-e72d-4cee-8ecf-d127d377d566"
      },
      "source": [
        "# como estamos lidando com uma base de dados unica, devemos separar os dados que serao usados como features e os dados usados resultados\n",
        "# primeiramente, vamos analisar uma previsão do número de mortes, portanto:\n",
        "\n",
        "x = df[['Data']]\n",
        "\n",
        "x = np.arange(len(df['Data'])).reshape(-1,1)\n",
        "\n",
        "y = df['Mortes']\n",
        "\n",
        "y = np.array(y).reshape(-1,1)\n",
        "\n",
        "print(x.shape)\n",
        "print(y.shape)\n",
        "\n",
        "plt.plot(x, y)"
      ],
      "execution_count": 115,
      "outputs": [
        {
          "output_type": "stream",
          "text": [
            "(131, 1)\n",
            "(131, 1)\n"
          ],
          "name": "stdout"
        },
        {
          "output_type": "execute_result",
          "data": {
            "text/plain": [
              "[<matplotlib.lines.Line2D at 0x7f9462732940>]"
            ]
          },
          "metadata": {
            "tags": []
          },
          "execution_count": 115
        },
        {
          "output_type": "display_data",
          "data": {
            "image/png": "[encoded data removed]",
            "text/plain": [
              "<Figure size 432x288 with 1 Axes>"
            ]
          },
          "metadata": {
            "tags": [],
            "needs_background": "light"
          }
        }
      ]
    },
    {
      "cell_type": "code",
      "metadata": {
        "id": "8aNtrxnbkXlt",
        "colab_type": "code",
        "colab": {
          "base_uri": "https://localhost:8080/",
          "height": 34
        },
        "outputId": "abd180de-dee2-4b67-b053-70a2564f17d9"
      },
      "source": [
        "# criaremos, agora, uma variavel para guardar as previsoes à serem feitas com base nos dados que já temos.\n",
        "# essa previsão será feita para DIAS posteriores à última data de nosso dataframe.\n",
        "\n",
        "DIAS = 60 # neste caso, as previsões irão até 04/09/2020\n",
        "\n",
        "previsoes = np.arange(len(df['Data']) + DIAS).reshape(-1,1)\n",
        "\n",
        "previsoes.shape"
      ],
      "execution_count": 120,
      "outputs": [
        {
          "output_type": "execute_result",
          "data": {
            "text/plain": [
              "(191, 1)"
            ]
          },
          "metadata": {
            "tags": []
          },
          "execution_count": 120
        }
      ]
    },
    {
      "cell_type": "code",
      "metadata": {
        "id": "03QybU76lgha",
        "colab_type": "code",
        "colab": {
          "base_uri": "https://localhost:8080/",
          "height": 357
        },
        "outputId": "0b67646f-a567-4eb3-a11e-121461a2c250"
      },
      "source": [
        "from sklearn.model_selection import train_test_split\n",
        "\n",
        "SEED = 20\n",
        "\n",
        "treino_x, teste_x, treino_y, teste_y = train_test_split(x, y, random_state=SEED, test_size=0.15, shuffle=False) # shuffle = false pois estamos trabalhando com uma série temporal e não queremos que o algoritmo busque valores aleatórios (tem que fazer a busca na ordem)\n",
        "\n",
        "teste_x"
      ],
      "execution_count": 121,
      "outputs": [
        {
          "output_type": "execute_result",
          "data": {
            "text/plain": [
              "array([[111],\n",
              "       [112],\n",
              "       [113],\n",
              "       [114],\n",
              "       [115],\n",
              "       [116],\n",
              "       [117],\n",
              "       [118],\n",
              "       [119],\n",
              "       [120],\n",
              "       [121],\n",
              "       [122],\n",
              "       [123],\n",
              "       [124],\n",
              "       [125],\n",
              "       [126],\n",
              "       [127],\n",
              "       [128],\n",
              "       [129],\n",
              "       [130]])"
            ]
          },
          "metadata": {
            "tags": []
          },
          "execution_count": 121
        }
      ]
    },
    {
      "cell_type": "code",
      "metadata": {
        "id": "LtjXI3BSl0Wi",
        "colab_type": "code",
        "colab": {
          "base_uri": "https://localhost:8080/",
          "height": 357
        },
        "outputId": "ae251133-8438-45c2-b988-c75c34d641ee"
      },
      "source": [
        "teste_y"
      ],
      "execution_count": 122,
      "outputs": [
        {
          "output_type": "execute_result",
          "data": {
            "text/plain": [
              "array([[43959],\n",
              "       [45241],\n",
              "       [46510],\n",
              "       [47748],\n",
              "       [48954],\n",
              "       [49976],\n",
              "       [50617],\n",
              "       [51271],\n",
              "       [52645],\n",
              "       [53830],\n",
              "       [54971],\n",
              "       [55961],\n",
              "       [57070],\n",
              "       [57622],\n",
              "       [58314],\n",
              "       [59594],\n",
              "       [60632],\n",
              "       [61884],\n",
              "       [63174],\n",
              "       [64265]])"
            ]
          },
          "metadata": {
            "tags": []
          },
          "execution_count": 122
        }
      ]
    },
    {
      "cell_type": "code",
      "metadata": {
        "id": "NS17O5mPl71T",
        "colab_type": "code",
        "colab": {
          "base_uri": "https://localhost:8080/",
          "height": 34
        },
        "outputId": "9b5e018b-4677-47e7-c1b9-02038b7ce221"
      },
      "source": [
        "print(\"Treinaremos com %d elementos e testaremos %d elementos\" % (len(treino_x), len(teste_x)))"
      ],
      "execution_count": 123,
      "outputs": [
        {
          "output_type": "stream",
          "text": [
            "Treinaremos com 111 elementos e testaremos 20 elementos\n"
          ],
          "name": "stdout"
        }
      ]
    },
    {
      "cell_type": "markdown",
      "metadata": {
        "id": "iEU_B1cZmhwP",
        "colab_type": "text"
      },
      "source": [
        "#Regressão polinomial"
      ]
    },
    {
      "cell_type": "code",
      "metadata": {
        "id": "6P9RWZeRCOp1",
        "colab_type": "code",
        "colab": {}
      },
      "source": [
        "from sklearn.preprocessing import PolynomialFeatures\n",
        "\n",
        "poly = PolynomialFeatures(degree=4) # testar com outras potências\n",
        "\n",
        "# temos que refazer nossas bases de treinamento e testes pois, como estão agora, elas só têm informações lineares (por exemplo, x.shape = (131, 1))\n",
        "treino_x_poly = poly.fit_transform(treino_x) # atenção: fazer o fit_transform somente uma vez na base!\n",
        "teste_x_poly = poly.transform(teste_x)"
      ],
      "execution_count": 124,
      "outputs": []
    },
    {
      "cell_type": "code",
      "metadata": {
        "id": "nFxbNDoNfoG9",
        "colab_type": "code",
        "colab": {
          "base_uri": "https://localhost:8080/",
          "height": 34
        },
        "outputId": "a7af1e15-deb1-4d42-94cc-52279dc05543"
      },
      "source": [
        "teste_x_poly.shape"
      ],
      "execution_count": 125,
      "outputs": [
        {
          "output_type": "execute_result",
          "data": {
            "text/plain": [
              "(20, 5)"
            ]
          },
          "metadata": {
            "tags": []
          },
          "execution_count": 125
        }
      ]
    },
    {
      "cell_type": "code",
      "metadata": {
        "id": "aMAV9Q7Jdt8H",
        "colab_type": "code",
        "colab": {
          "base_uri": "https://localhost:8080/",
          "height": 34
        },
        "outputId": "5b4b863a-f83b-44a8-e540-9ee5537adb0b"
      },
      "source": [
        "treino_x_poly.shape # adiciona uma coluna a mais"
      ],
      "execution_count": 126,
      "outputs": [
        {
          "output_type": "execute_result",
          "data": {
            "text/plain": [
              "(111, 5)"
            ]
          },
          "metadata": {
            "tags": []
          },
          "execution_count": 126
        }
      ]
    },
    {
      "cell_type": "code",
      "metadata": {
        "id": "NvEIwvbEdz5j",
        "colab_type": "code",
        "colab": {
          "base_uri": "https://localhost:8080/",
          "height": 1000
        },
        "outputId": "682385b5-5ecb-4a72-878a-6888db4973e7"
      },
      "source": [
        "treino_x_poly # (valor fixo 1, valor original, valor original elevado ao quadrado, valor original elevado a terceira, etc)"
      ],
      "execution_count": 127,
      "outputs": [
        {
          "output_type": "execute_result",
          "data": {
            "text/plain": [
              "array([[1.00000000e+00, 0.00000000e+00, 0.00000000e+00, 0.00000000e+00,\n",
              "        0.00000000e+00],\n",
              "       [1.00000000e+00, 1.00000000e+00, 1.00000000e+00, 1.00000000e+00,\n",
              "        1.00000000e+00],\n",
              "       [1.00000000e+00, 2.00000000e+00, 4.00000000e+00, 8.00000000e+00,\n",
              "        1.60000000e+01],\n",
              "       [1.00000000e+00, 3.00000000e+00, 9.00000000e+00, 2.70000000e+01,\n",
              "        8.10000000e+01],\n",
              "       [1.00000000e+00, 4.00000000e+00, 1.60000000e+01, 6.40000000e+01,\n",
              "        2.56000000e+02],\n",
              "       [1.00000000e+00, 5.00000000e+00, 2.50000000e+01, 1.25000000e+02,\n",
              "        6.25000000e+02],\n",
              "       [1.00000000e+00, 6.00000000e+00, 3.60000000e+01, 2.16000000e+02,\n",
              "        1.29600000e+03],\n",
              "       [1.00000000e+00, 7.00000000e+00, 4.90000000e+01, 3.43000000e+02,\n",
              "        2.40100000e+03],\n",
              "       [1.00000000e+00, 8.00000000e+00, 6.40000000e+01, 5.12000000e+02,\n",
              "        4.09600000e+03],\n",
              "       [1.00000000e+00, 9.00000000e+00, 8.10000000e+01, 7.29000000e+02,\n",
              "        6.56100000e+03],\n",
              "       [1.00000000e+00, 1.00000000e+01, 1.00000000e+02, 1.00000000e+03,\n",
              "        1.00000000e+04],\n",
              "       [1.00000000e+00, 1.10000000e+01, 1.21000000e+02, 1.33100000e+03,\n",
              "        1.46410000e+04],\n",
              "       [1.00000000e+00, 1.20000000e+01, 1.44000000e+02, 1.72800000e+03,\n",
              "        2.07360000e+04],\n",
              "       [1.00000000e+00, 1.30000000e+01, 1.69000000e+02, 2.19700000e+03,\n",
              "        2.85610000e+04],\n",
              "       [1.00000000e+00, 1.40000000e+01, 1.96000000e+02, 2.74400000e+03,\n",
              "        3.84160000e+04],\n",
              "       [1.00000000e+00, 1.50000000e+01, 2.25000000e+02, 3.37500000e+03,\n",
              "        5.06250000e+04],\n",
              "       [1.00000000e+00, 1.60000000e+01, 2.56000000e+02, 4.09600000e+03,\n",
              "        6.55360000e+04],\n",
              "       [1.00000000e+00, 1.70000000e+01, 2.89000000e+02, 4.91300000e+03,\n",
              "        8.35210000e+04],\n",
              "       [1.00000000e+00, 1.80000000e+01, 3.24000000e+02, 5.83200000e+03,\n",
              "        1.04976000e+05],\n",
              "       [1.00000000e+00, 1.90000000e+01, 3.61000000e+02, 6.85900000e+03,\n",
              "        1.30321000e+05],\n",
              "       [1.00000000e+00, 2.00000000e+01, 4.00000000e+02, 8.00000000e+03,\n",
              "        1.60000000e+05],\n",
              "       [1.00000000e+00, 2.10000000e+01, 4.41000000e+02, 9.26100000e+03,\n",
              "        1.94481000e+05],\n",
              "       [1.00000000e+00, 2.20000000e+01, 4.84000000e+02, 1.06480000e+04,\n",
              "        2.34256000e+05],\n",
              "       [1.00000000e+00, 2.30000000e+01, 5.29000000e+02, 1.21670000e+04,\n",
              "        2.79841000e+05],\n",
              "       [1.00000000e+00, 2.40000000e+01, 5.76000000e+02, 1.38240000e+04,\n",
              "        3.31776000e+05],\n",
              "       [1.00000000e+00, 2.50000000e+01, 6.25000000e+02, 1.56250000e+04,\n",
              "        3.90625000e+05],\n",
              "       [1.00000000e+00, 2.60000000e+01, 6.76000000e+02, 1.75760000e+04,\n",
              "        4.56976000e+05],\n",
              "       [1.00000000e+00, 2.70000000e+01, 7.29000000e+02, 1.96830000e+04,\n",
              "        5.31441000e+05],\n",
              "       [1.00000000e+00, 2.80000000e+01, 7.84000000e+02, 2.19520000e+04,\n",
              "        6.14656000e+05],\n",
              "       [1.00000000e+00, 2.90000000e+01, 8.41000000e+02, 2.43890000e+04,\n",
              "        7.07281000e+05],\n",
              "       [1.00000000e+00, 3.00000000e+01, 9.00000000e+02, 2.70000000e+04,\n",
              "        8.10000000e+05],\n",
              "       [1.00000000e+00, 3.10000000e+01, 9.61000000e+02, 2.97910000e+04,\n",
              "        9.23521000e+05],\n",
              "       [1.00000000e+00, 3.20000000e+01, 1.02400000e+03, 3.27680000e+04,\n",
              "        1.04857600e+06],\n",
              "       [1.00000000e+00, 3.30000000e+01, 1.08900000e+03, 3.59370000e+04,\n",
              "        1.18592100e+06],\n",
              "       [1.00000000e+00, 3.40000000e+01, 1.15600000e+03, 3.93040000e+04,\n",
              "        1.33633600e+06],\n",
              "       [1.00000000e+00, 3.50000000e+01, 1.22500000e+03, 4.28750000e+04,\n",
              "        1.50062500e+06],\n",
              "       [1.00000000e+00, 3.60000000e+01, 1.29600000e+03, 4.66560000e+04,\n",
              "        1.67961600e+06],\n",
              "       [1.00000000e+00, 3.70000000e+01, 1.36900000e+03, 5.06530000e+04,\n",
              "        1.87416100e+06],\n",
              "       [1.00000000e+00, 3.80000000e+01, 1.44400000e+03, 5.48720000e+04,\n",
              "        2.08513600e+06],\n",
              "       [1.00000000e+00, 3.90000000e+01, 1.52100000e+03, 5.93190000e+04,\n",
              "        2.31344100e+06],\n",
              "       [1.00000000e+00, 4.00000000e+01, 1.60000000e+03, 6.40000000e+04,\n",
              "        2.56000000e+06],\n",
              "       [1.00000000e+00, 4.10000000e+01, 1.68100000e+03, 6.89210000e+04,\n",
              "        2.82576100e+06],\n",
              "       [1.00000000e+00, 4.20000000e+01, 1.76400000e+03, 7.40880000e+04,\n",
              "        3.11169600e+06],\n",
              "       [1.00000000e+00, 4.30000000e+01, 1.84900000e+03, 7.95070000e+04,\n",
              "        3.41880100e+06],\n",
              "       [1.00000000e+00, 4.40000000e+01, 1.93600000e+03, 8.51840000e+04,\n",
              "        3.74809600e+06],\n",
              "       [1.00000000e+00, 4.50000000e+01, 2.02500000e+03, 9.11250000e+04,\n",
              "        4.10062500e+06],\n",
              "       [1.00000000e+00, 4.60000000e+01, 2.11600000e+03, 9.73360000e+04,\n",
              "        4.47745600e+06],\n",
              "       [1.00000000e+00, 4.70000000e+01, 2.20900000e+03, 1.03823000e+05,\n",
              "        4.87968100e+06],\n",
              "       [1.00000000e+00, 4.80000000e+01, 2.30400000e+03, 1.10592000e+05,\n",
              "        5.30841600e+06],\n",
              "       [1.00000000e+00, 4.90000000e+01, 2.40100000e+03, 1.17649000e+05,\n",
              "        5.76480100e+06],\n",
              "       [1.00000000e+00, 5.00000000e+01, 2.50000000e+03, 1.25000000e+05,\n",
              "        6.25000000e+06],\n",
              "       [1.00000000e+00, 5.10000000e+01, 2.60100000e+03, 1.32651000e+05,\n",
              "        6.76520100e+06],\n",
              "       [1.00000000e+00, 5.20000000e+01, 2.70400000e+03, 1.40608000e+05,\n",
              "        7.31161600e+06],\n",
              "       [1.00000000e+00, 5.30000000e+01, 2.80900000e+03, 1.48877000e+05,\n",
              "        7.89048100e+06],\n",
              "       [1.00000000e+00, 5.40000000e+01, 2.91600000e+03, 1.57464000e+05,\n",
              "        8.50305600e+06],\n",
              "       [1.00000000e+00, 5.50000000e+01, 3.02500000e+03, 1.66375000e+05,\n",
              "        9.15062500e+06],\n",
              "       [1.00000000e+00, 5.60000000e+01, 3.13600000e+03, 1.75616000e+05,\n",
              "        9.83449600e+06],\n",
              "       [1.00000000e+00, 5.70000000e+01, 3.24900000e+03, 1.85193000e+05,\n",
              "        1.05560010e+07],\n",
              "       [1.00000000e+00, 5.80000000e+01, 3.36400000e+03, 1.95112000e+05,\n",
              "        1.13164960e+07],\n",
              "       [1.00000000e+00, 5.90000000e+01, 3.48100000e+03, 2.05379000e+05,\n",
              "        1.21173610e+07],\n",
              "       [1.00000000e+00, 6.00000000e+01, 3.60000000e+03, 2.16000000e+05,\n",
              "        1.29600000e+07],\n",
              "       [1.00000000e+00, 6.10000000e+01, 3.72100000e+03, 2.26981000e+05,\n",
              "        1.38458410e+07],\n",
              "       [1.00000000e+00, 6.20000000e+01, 3.84400000e+03, 2.38328000e+05,\n",
              "        1.47763360e+07],\n",
              "       [1.00000000e+00, 6.30000000e+01, 3.96900000e+03, 2.50047000e+05,\n",
              "        1.57529610e+07],\n",
              "       [1.00000000e+00, 6.40000000e+01, 4.09600000e+03, 2.62144000e+05,\n",
              "        1.67772160e+07],\n",
              "       [1.00000000e+00, 6.50000000e+01, 4.22500000e+03, 2.74625000e+05,\n",
              "        1.78506250e+07],\n",
              "       [1.00000000e+00, 6.60000000e+01, 4.35600000e+03, 2.87496000e+05,\n",
              "        1.89747360e+07],\n",
              "       [1.00000000e+00, 6.70000000e+01, 4.48900000e+03, 3.00763000e+05,\n",
              "        2.01511210e+07],\n",
              "       [1.00000000e+00, 6.80000000e+01, 4.62400000e+03, 3.14432000e+05,\n",
              "        2.13813760e+07],\n",
              "       [1.00000000e+00, 6.90000000e+01, 4.76100000e+03, 3.28509000e+05,\n",
              "        2.26671210e+07],\n",
              "       [1.00000000e+00, 7.00000000e+01, 4.90000000e+03, 3.43000000e+05,\n",
              "        2.40100000e+07],\n",
              "       [1.00000000e+00, 7.10000000e+01, 5.04100000e+03, 3.57911000e+05,\n",
              "        2.54116810e+07],\n",
              "       [1.00000000e+00, 7.20000000e+01, 5.18400000e+03, 3.73248000e+05,\n",
              "        2.68738560e+07],\n",
              "       [1.00000000e+00, 7.30000000e+01, 5.32900000e+03, 3.89017000e+05,\n",
              "        2.83982410e+07],\n",
              "       [1.00000000e+00, 7.40000000e+01, 5.47600000e+03, 4.05224000e+05,\n",
              "        2.99865760e+07],\n",
              "       [1.00000000e+00, 7.50000000e+01, 5.62500000e+03, 4.21875000e+05,\n",
              "        3.16406250e+07],\n",
              "       [1.00000000e+00, 7.60000000e+01, 5.77600000e+03, 4.38976000e+05,\n",
              "        3.33621760e+07],\n",
              "       [1.00000000e+00, 7.70000000e+01, 5.92900000e+03, 4.56533000e+05,\n",
              "        3.51530410e+07],\n",
              "       [1.00000000e+00, 7.80000000e+01, 6.08400000e+03, 4.74552000e+05,\n",
              "        3.70150560e+07],\n",
              "       [1.00000000e+00, 7.90000000e+01, 6.24100000e+03, 4.93039000e+05,\n",
              "        3.89500810e+07],\n",
              "       [1.00000000e+00, 8.00000000e+01, 6.40000000e+03, 5.12000000e+05,\n",
              "        4.09600000e+07],\n",
              "       [1.00000000e+00, 8.10000000e+01, 6.56100000e+03, 5.31441000e+05,\n",
              "        4.30467210e+07],\n",
              "       [1.00000000e+00, 8.20000000e+01, 6.72400000e+03, 5.51368000e+05,\n",
              "        4.52121760e+07],\n",
              "       [1.00000000e+00, 8.30000000e+01, 6.88900000e+03, 5.71787000e+05,\n",
              "        4.74583210e+07],\n",
              "       [1.00000000e+00, 8.40000000e+01, 7.05600000e+03, 5.92704000e+05,\n",
              "        4.97871360e+07],\n",
              "       [1.00000000e+00, 8.50000000e+01, 7.22500000e+03, 6.14125000e+05,\n",
              "        5.22006250e+07],\n",
              "       [1.00000000e+00, 8.60000000e+01, 7.39600000e+03, 6.36056000e+05,\n",
              "        5.47008160e+07],\n",
              "       [1.00000000e+00, 8.70000000e+01, 7.56900000e+03, 6.58503000e+05,\n",
              "        5.72897610e+07],\n",
              "       [1.00000000e+00, 8.80000000e+01, 7.74400000e+03, 6.81472000e+05,\n",
              "        5.99695360e+07],\n",
              "       [1.00000000e+00, 8.90000000e+01, 7.92100000e+03, 7.04969000e+05,\n",
              "        6.27422410e+07],\n",
              "       [1.00000000e+00, 9.00000000e+01, 8.10000000e+03, 7.29000000e+05,\n",
              "        6.56100000e+07],\n",
              "       [1.00000000e+00, 9.10000000e+01, 8.28100000e+03, 7.53571000e+05,\n",
              "        6.85749610e+07],\n",
              "       [1.00000000e+00, 9.20000000e+01, 8.46400000e+03, 7.78688000e+05,\n",
              "        7.16392960e+07],\n",
              "       [1.00000000e+00, 9.30000000e+01, 8.64900000e+03, 8.04357000e+05,\n",
              "        7.48052010e+07],\n",
              "       [1.00000000e+00, 9.40000000e+01, 8.83600000e+03, 8.30584000e+05,\n",
              "        7.80748960e+07],\n",
              "       [1.00000000e+00, 9.50000000e+01, 9.02500000e+03, 8.57375000e+05,\n",
              "        8.14506250e+07],\n",
              "       [1.00000000e+00, 9.60000000e+01, 9.21600000e+03, 8.84736000e+05,\n",
              "        8.49346560e+07],\n",
              "       [1.00000000e+00, 9.70000000e+01, 9.40900000e+03, 9.12673000e+05,\n",
              "        8.85292810e+07],\n",
              "       [1.00000000e+00, 9.80000000e+01, 9.60400000e+03, 9.41192000e+05,\n",
              "        9.22368160e+07],\n",
              "       [1.00000000e+00, 9.90000000e+01, 9.80100000e+03, 9.70299000e+05,\n",
              "        9.60596010e+07],\n",
              "       [1.00000000e+00, 1.00000000e+02, 1.00000000e+04, 1.00000000e+06,\n",
              "        1.00000000e+08],\n",
              "       [1.00000000e+00, 1.01000000e+02, 1.02010000e+04, 1.03030100e+06,\n",
              "        1.04060401e+08],\n",
              "       [1.00000000e+00, 1.02000000e+02, 1.04040000e+04, 1.06120800e+06,\n",
              "        1.08243216e+08],\n",
              "       [1.00000000e+00, 1.03000000e+02, 1.06090000e+04, 1.09272700e+06,\n",
              "        1.12550881e+08],\n",
              "       [1.00000000e+00, 1.04000000e+02, 1.08160000e+04, 1.12486400e+06,\n",
              "        1.16985856e+08],\n",
              "       [1.00000000e+00, 1.05000000e+02, 1.10250000e+04, 1.15762500e+06,\n",
              "        1.21550625e+08],\n",
              "       [1.00000000e+00, 1.06000000e+02, 1.12360000e+04, 1.19101600e+06,\n",
              "        1.26247696e+08],\n",
              "       [1.00000000e+00, 1.07000000e+02, 1.14490000e+04, 1.22504300e+06,\n",
              "        1.31079601e+08],\n",
              "       [1.00000000e+00, 1.08000000e+02, 1.16640000e+04, 1.25971200e+06,\n",
              "        1.36048896e+08],\n",
              "       [1.00000000e+00, 1.09000000e+02, 1.18810000e+04, 1.29502900e+06,\n",
              "        1.41158161e+08],\n",
              "       [1.00000000e+00, 1.10000000e+02, 1.21000000e+04, 1.33100000e+06,\n",
              "        1.46410000e+08]])"
            ]
          },
          "metadata": {
            "tags": []
          },
          "execution_count": 127
        }
      ]
    },
    {
      "cell_type": "markdown",
      "metadata": {
        "id": "U6MW6f9_eTl1",
        "colab_type": "text"
      },
      "source": [
        "# Treinamento"
      ]
    },
    {
      "cell_type": "code",
      "metadata": {
        "id": "os_3AmpWeQg-",
        "colab_type": "code",
        "colab": {
          "base_uri": "https://localhost:8080/",
          "height": 34
        },
        "outputId": "598fe9f3-6fd5-40d8-d3a9-9e66b6501344"
      },
      "source": [
        "from sklearn.linear_model import LinearRegression\n",
        "\n",
        "regressor = LinearRegression()\n",
        "# como queremos que as previsões sejam feitas com base nos dados originais, utilizamos os valores de x ajustados para a curva polinomial\n",
        "# e os valores de y são os originais\n",
        "regressor.fit(treino_x_poly, treino_y) "
      ],
      "execution_count": 128,
      "outputs": [
        {
          "output_type": "execute_result",
          "data": {
            "text/plain": [
              "LinearRegression(copy_X=True, fit_intercept=True, n_jobs=None, normalize=False)"
            ]
          },
          "metadata": {
            "tags": []
          },
          "execution_count": 128
        }
      ]
    },
    {
      "cell_type": "markdown",
      "metadata": {
        "id": "ZQ_LG5nDfEW4",
        "colab_type": "text"
      },
      "source": [
        "#Previsões"
      ]
    },
    {
      "cell_type": "code",
      "metadata": {
        "id": "ftM7oBONfBXs",
        "colab_type": "code",
        "colab": {
          "base_uri": "https://localhost:8080/",
          "height": 357
        },
        "outputId": "f1caab5e-a6eb-4a1a-bfe9-e911b00cdc2c"
      },
      "source": [
        "# fazemos as previsoes com base nos dados polinomiais de teste\n",
        "poly_test_pred = regressor.predict(teste_x_poly)\n",
        "\n",
        "# visualizando os dados de previsão para comparar com os dados reais\n",
        "poly_test_pred"
      ],
      "execution_count": 129,
      "outputs": [
        {
          "output_type": "execute_result",
          "data": {
            "text/plain": [
              "array([[45649.80771483],\n",
              "       [46840.5535225 ],\n",
              "       [48038.60913572],\n",
              "       [49243.3608682 ],\n",
              "       [50454.17954041],\n",
              "       [51670.42047957],\n",
              "       [52891.42351969],\n",
              "       [54116.51300155],\n",
              "       [55344.99777266],\n",
              "       [56576.17118733],\n",
              "       [57809.31110663],\n",
              "       [59043.67989838],\n",
              "       [60278.52443718],\n",
              "       [61513.0761044 ],\n",
              "       [62746.55078816],\n",
              "       [63978.14888334],\n",
              "       [65207.05529163],\n",
              "       [66432.43942143],\n",
              "       [67653.45518793],\n",
              "       [68869.24101311]])"
            ]
          },
          "metadata": {
            "tags": []
          },
          "execution_count": 129
        }
      ]
    },
    {
      "cell_type": "code",
      "metadata": {
        "id": "9CILS1WPf-e1",
        "colab_type": "code",
        "colab": {
          "base_uri": "https://localhost:8080/",
          "height": 357
        },
        "outputId": "824d7f0e-f3a3-4497-e681-16ea8a14d6b2"
      },
      "source": [
        "# dados reais\n",
        "teste_y"
      ],
      "execution_count": 130,
      "outputs": [
        {
          "output_type": "execute_result",
          "data": {
            "text/plain": [
              "array([[43959],\n",
              "       [45241],\n",
              "       [46510],\n",
              "       [47748],\n",
              "       [48954],\n",
              "       [49976],\n",
              "       [50617],\n",
              "       [51271],\n",
              "       [52645],\n",
              "       [53830],\n",
              "       [54971],\n",
              "       [55961],\n",
              "       [57070],\n",
              "       [57622],\n",
              "       [58314],\n",
              "       [59594],\n",
              "       [60632],\n",
              "       [61884],\n",
              "       [63174],\n",
              "       [64265]])"
            ]
          },
          "metadata": {
            "tags": []
          },
          "execution_count": 130
        }
      ]
    },
    {
      "cell_type": "code",
      "metadata": {
        "id": "zLtlyMiKgK6w",
        "colab_type": "code",
        "colab": {
          "base_uri": "https://localhost:8080/",
          "height": 285
        },
        "outputId": "ec476198-8a4a-4870-cb8f-d8dd6db10471"
      },
      "source": [
        "# acima, verificamos que o algoritmo previu, com certa acurácia, os valores\n",
        "# geramos um gráfico para visualizar esses dados\n",
        "plt.plot(poly_test_pred, linestyle='dashed')\n",
        "plt.plot(teste_y)"
      ],
      "execution_count": 131,
      "outputs": [
        {
          "output_type": "execute_result",
          "data": {
            "text/plain": [
              "[<matplotlib.lines.Line2D at 0x7f9462b82278>]"
            ]
          },
          "metadata": {
            "tags": []
          },
          "execution_count": 131
        },
        {
          "output_type": "display_data",
          "data": {
            "image/png": "[encoded data removed]",
            "text/plain": [
              "<Figure size 432x288 with 1 Axes>"
            ]
          },
          "metadata": {
            "tags": [],
            "needs_background": "light"
          }
        }
      ]
    },
    {
      "cell_type": "markdown",
      "metadata": {
        "id": "-1swIMC4hd8f",
        "colab_type": "text"
      },
      "source": [
        "# Métricas"
      ]
    },
    {
      "cell_type": "code",
      "metadata": {
        "id": "in1Z7z0Ug9od",
        "colab_type": "code",
        "colab": {
          "base_uri": "https://localhost:8080/",
          "height": 68
        },
        "outputId": "ee83ed20-c887-417e-80df-a103dabaacc1"
      },
      "source": [
        "from sklearn.metrics import mean_absolute_error, mean_squared_error\n",
        "\n",
        "# quanto menores os valores, mais próximo dos valores reais estaremos\n",
        "\n",
        "print(\"Mean absolut error: \", mean_absolute_error(poly_test_pred, teste_y))\n",
        "print(\"Mean squared error: \", mean_squared_error(poly_test_pred, teste_y))\n",
        "print(\"Root mean squared error: \", np.sqrt(mean_squared_error(poly_test_pred, teste_y)))"
      ],
      "execution_count": 132,
      "outputs": [
        {
          "output_type": "stream",
          "text": [
            "Mean absolut error:  3005.9759437325542\n",
            "Mean squared error:  10397971.204531305\n",
            "Root mean squared error:  3224.5885325931595\n"
          ],
          "name": "stdout"
        }
      ]
    },
    {
      "cell_type": "markdown",
      "metadata": {
        "id": "NqtKBtNNi6NV",
        "colab_type": "text"
      },
      "source": [
        "# Previsões"
      ]
    },
    {
      "cell_type": "code",
      "metadata": {
        "id": "bu6VHT9ZiL06",
        "colab_type": "code",
        "colab": {
          "base_uri": "https://localhost:8080/",
          "height": 34
        },
        "outputId": "c20e791f-82ee-4047-ceb5-0dc3abb30802"
      },
      "source": [
        "# faremos as previsoes para prevermos a quantidade para DIAS\n",
        "previsoes.shape"
      ],
      "execution_count": 133,
      "outputs": [
        {
          "output_type": "execute_result",
          "data": {
            "text/plain": [
              "(191, 1)"
            ]
          },
          "metadata": {
            "tags": []
          },
          "execution_count": 133
        }
      ]
    },
    {
      "cell_type": "code",
      "metadata": {
        "id": "lG-jA1jkitr6",
        "colab_type": "code",
        "colab": {
          "base_uri": "https://localhost:8080/",
          "height": 34
        },
        "outputId": "f65b9ce6-d1e8-4609-fe48-20e2507ac6c9"
      },
      "source": [
        "treino_x_all = poly.transform(previsoes)\n",
        "treino_x_all.shape"
      ],
      "execution_count": 134,
      "outputs": [
        {
          "output_type": "execute_result",
          "data": {
            "text/plain": [
              "(191, 5)"
            ]
          },
          "metadata": {
            "tags": []
          },
          "execution_count": 134
        }
      ]
    },
    {
      "cell_type": "code",
      "metadata": {
        "id": "bP9NFFrEi28l",
        "colab_type": "code",
        "colab": {
          "base_uri": "https://localhost:8080/",
          "height": 34
        },
        "outputId": "b58416c8-e6cf-4d64-8b6c-49699531bfad"
      },
      "source": [
        "poly_pred_all = regressor.predict(treino_x_all)\n",
        "len(poly_pred_all)"
      ],
      "execution_count": 135,
      "outputs": [
        {
          "output_type": "execute_result",
          "data": {
            "text/plain": [
              "191"
            ]
          },
          "metadata": {
            "tags": []
          },
          "execution_count": 135
        }
      ]
    },
    {
      "cell_type": "code",
      "metadata": {
        "id": "pQgAlGjDjIgg",
        "colab_type": "code",
        "colab": {
          "base_uri": "https://localhost:8080/",
          "height": 458
        },
        "outputId": "c372c782-2bfb-4441-8d51-e6dcd56ffc60"
      },
      "source": [
        "# plot do gráfico real, sem a quantidade de dias para previsão\n",
        "plt.figure(figsize=(10,7)) \n",
        "plt.plot(previsoes[:-DIAS], y, color='red')\n",
        "plt.plot(previsoes, poly_pred_all, linestyle='dashed')\n",
        "plt.title('Número de mortes por COVID-19')\n",
        "plt.xlabel('Dias desde 25/02/2020')\n",
        "plt.ylabel('Número de mortes')\n",
        "plt.legend(['Mortes', 'Previsões']);"
      ],
      "execution_count": 139,
      "outputs": [
        {
          "output_type": "display_data",
          "data": {
            "image/png": "[encoded data removed]",
            "text/plain": [
              "<Figure size 720x504 with 1 Axes>"
            ]
          },
          "metadata": {
            "tags": [],
            "needs_background": "light"
          }
        }
      ]
    },
    {
      "cell_type": "code",
      "metadata": {
        "id": "6sgzENtclhN3",
        "colab_type": "code",
        "colab": {}
      },
      "source": [
        ""
      ],
      "execution_count": null,
      "outputs": []
    }
  ]
}